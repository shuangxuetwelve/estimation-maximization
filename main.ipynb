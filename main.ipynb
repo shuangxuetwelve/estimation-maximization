{
 "cells": [
  {
   "attachments": {},
   "cell_type": "markdown",
   "metadata": {},
   "source": [
    "# Estimation-Maximization (EM) Algorithm"
   ]
  },
  {
   "cell_type": "code",
   "execution_count": 64,
   "metadata": {},
   "outputs": [],
   "source": [
    "import numpy as np\n",
    "import matplotlib.pyplot as plt"
   ]
  },
  {
   "attachments": {},
   "cell_type": "markdown",
   "metadata": {},
   "source": [
    "## 0. Constants"
   ]
  },
  {
   "cell_type": "code",
   "execution_count": 167,
   "metadata": {},
   "outputs": [],
   "source": [
    "N_GAUSSIANS = 5  # Number of Gaussian distributions.\n",
    "N_SAMPLES = 1000  # Number of samples.\n",
    "N_ITERATIONS = 10 # Number of EM iterations."
   ]
  },
  {
   "attachments": {},
   "cell_type": "markdown",
   "metadata": {},
   "source": [
    "## 1. Dataset"
   ]
  },
  {
   "attachments": {},
   "cell_type": "markdown",
   "metadata": {},
   "source": [
    "Define helper functions."
   ]
  },
  {
   "cell_type": "code",
   "execution_count": 66,
   "metadata": {},
   "outputs": [],
   "source": [
    "def generateRandomCovarianceMatrix(n):\n",
    "    \"\"\"Generate a random covariance matrix.\n",
    "\n",
    "    To generate a covariance matrix, we need to generate a random matrix Q, then\n",
    "    Q @ Q.T would be a covariance matrix. This method works because Q @ Q.T has\n",
    "    non-negative diagnonal elements, and it is symmetric and positive\n",
    "    semidefinite.\n",
    "\n",
    "    Args:\n",
    "        n (int): number of dimensions.\n",
    "\n",
    "    Return (numpy.ndarray ((n, n) & numpy.float64)): a random covariance matrix.\n",
    "    \"\"\"\n",
    "    \n",
    "    Q = np.random.default_rng().uniform(low=-1, high=1, size=(n, n))\n",
    "    return Q @ Q.T\n",
    "\n",
    "def multinoulli(p):\n",
    "    \"\"\"Draw one sample from a multinoulli distribution.\n",
    "\n",
    "    Args:\n",
    "        p (numpy.ndarray ((n,))): probability mass funtion.\n",
    "\n",
    "    Return (int): an integer in [0, n) that represents a category.\n",
    "    \"\"\"\n",
    "\n",
    "    # Retrieve the number of categories.\n",
    "    n = p.shape[0]\n",
    "\n",
    "    # Normalize the probabilities so that they sum to 1.\n",
    "    p_normalized = p / p.sum()\n",
    "\n",
    "    # Sampling.\n",
    "    rn = np.random.default_rng().uniform(low=0, high=1)\n",
    "    cummulated_mass = 0\n",
    "    for i in range(n - 1):\n",
    "        cummulated_mass += p_normalized[i]\n",
    "        if rn < cummulated_mass:\n",
    "            return i\n",
    "    return n - 1"
   ]
  },
  {
   "attachments": {},
   "cell_type": "markdown",
   "metadata": {},
   "source": [
    "Generate the probabilities of selecting each Gaussian distribution."
   ]
  },
  {
   "cell_type": "code",
   "execution_count": 67,
   "metadata": {},
   "outputs": [],
   "source": [
    "# We sample in range [0.3, 1) to avoid an extremely small value.\n",
    "# numpy.ndarray ((N_GAUSSIANS,) & numpy.float64)\n",
    "p = np.random.default_rng().uniform(low=0.3, high=1, size=N_GAUSSIANS)\n",
    "\n",
    "# Normalize the probabilities so that they sum to 1.\n",
    "p /= p.sum()"
   ]
  },
  {
   "attachments": {},
   "cell_type": "markdown",
   "metadata": {},
   "source": [
    "Generate the means of Gaussian distributions."
   ]
  },
  {
   "cell_type": "code",
   "execution_count": 68,
   "metadata": {},
   "outputs": [],
   "source": [
    "# numpy.ndarray ((N_GAUSSIANS, 2) & numpy.float64)\n",
    "means = np.random.default_rng().uniform(low=-5, high=5, size=(N_GAUSSIANS, 2))"
   ]
  },
  {
   "attachments": {},
   "cell_type": "markdown",
   "metadata": {},
   "source": [
    "Generate the covariance matrices of Gaussian distributions."
   ]
  },
  {
   "cell_type": "code",
   "execution_count": 69,
   "metadata": {},
   "outputs": [],
   "source": [
    "covs = []\n",
    "for i in range(N_GAUSSIANS):\n",
    "    covs.append(generateRandomCovarianceMatrix(2))\n",
    "\n",
    "# numpy.ndarray ((N_GAUSSIANS, 2, 2) & numpy.float64)\n",
    "covs = np.stack(covs)"
   ]
  },
  {
   "attachments": {},
   "cell_type": "markdown",
   "metadata": {},
   "source": [
    "Sample data points from Gaussian distributions."
   ]
  },
  {
   "cell_type": "code",
   "execution_count": 70,
   "metadata": {},
   "outputs": [],
   "source": [
    "points = []\n",
    "indices = []\n",
    "\n",
    "for i in range(N_SAMPLES):\n",
    "\n",
    "    # Sample the index of Gaussian distributions.\n",
    "    index = multinoulli(p)\n",
    "    indices.append(index)\n",
    "\n",
    "    # Sample a point using a specific Gaussian distribution.\n",
    "    point = np.random.default_rng().multivariate_normal(mean=means[index], cov=covs[index])\n",
    "    points.append(point)\n",
    "\n",
    "# numpy.ndarray ((N_SAMPLES, 2) & numpy.float64)\n",
    "points = np.stack(points)\n",
    "# numpy.ndarray ((N_SAMPLES,) & numpy.int32)\n",
    "indices = np.stack(indices)"
   ]
  },
  {
   "attachments": {},
   "cell_type": "markdown",
   "metadata": {},
   "source": [
    "Visualize data."
   ]
  },
  {
   "cell_type": "code",
   "execution_count": 71,
   "metadata": {},
   "outputs": [
    {
     "data": {
      "image/png": "[encoded data removed]",
      "text/plain": [
       "<Figure size 640x480 with 1 Axes>"
      ]
     },
     "metadata": {},
     "output_type": "display_data"
    }
   ],
   "source": [
    "for i in range(N_GAUSSIANS):\n",
    "\n",
    "    # Get all indices of a single Gaussian distribution.\n",
    "    indices_single = [] # Indices for a single Gaussian distribution.\n",
    "    for j in range(N_SAMPLES):\n",
    "        if indices[j] == i:\n",
    "            indices_single.append(j)\n",
    "\n",
    "    plt.plot(points[indices_single,0], points[indices_single,1], '.')\n",
    "\n",
    "plt.show()"
   ]
  },
  {
   "attachments": {},
   "cell_type": "markdown",
   "metadata": {},
   "source": [
    "## 2. Inference"
   ]
  },
  {
   "attachments": {},
   "cell_type": "markdown",
   "metadata": {},
   "source": [
    "Define helper functions."
   ]
  },
  {
   "cell_type": "code",
   "execution_count": 115,
   "metadata": {},
   "outputs": [],
   "source": [
    "def pdf(x, mean, cov):\n",
    "    \"\"\"Calculate the probability density function for multivariate Gaussian\n",
    "    distributions.\n",
    "\n",
    "    Args:\n",
    "        x (numpy.ndarray ((n, d)))\n",
    "        mean (numpy.ndarray ((d,))): mean of the Gaussian distribution.\n",
    "        cov (numpy.ndarray ((d, d))): covariance matrix of the Gaussian\n",
    "                                      distribution.\n",
    "\n",
    "    Return (numpy.ndarray ((n,) & numpy.float64)): the probability density.\n",
    "    \"\"\"\n",
    "\n",
    "    # Number of data points.\n",
    "    n = x.shape[0]\n",
    "\n",
    "    # Number of dimensions.\n",
    "    d = x.shape[1]\n",
    "\n",
    "    # Calculate the exponent.\n",
    "    exponent = np.empty((n,)) # numpy.ndarray ((n,) & numpy.float64)\n",
    "    for i in range(n):\n",
    "        a = x[i][None, :] - mean\n",
    "        exponent[i] = a @ np.linalg.inv(cov) @ a.T\n",
    "\n",
    "    # Calculate the probability density.\n",
    "    return 1 / (np.sqrt(np.power(2 * np.pi, d)) * np.linalg.det(cov)) * \\\n",
    "        np.power(np.e, -0.5 * exponent)"
   ]
  },
  {
   "attachments": {},
   "cell_type": "markdown",
   "metadata": {},
   "source": [
    "Randomly initialize the parameters."
   ]
  },
  {
   "cell_type": "code",
   "execution_count": 188,
   "metadata": {},
   "outputs": [],
   "source": [
    "p_inferred = np.random.default_rng().uniform(size=N_GAUSSIANS)\n",
    "means_inferred = np.random.default_rng().uniform(size=(N_GAUSSIANS, 2))\n",
    "covs_inferred = np.random.default_rng().uniform(size=(N_GAUSSIANS, 2, 2))"
   ]
  },
  {
   "attachments": {},
   "cell_type": "markdown",
   "metadata": {},
   "source": [
    "Infer the parameters iteratively."
   ]
  },
  {
   "cell_type": "code",
   "execution_count": 190,
   "metadata": {},
   "outputs": [
    {
     "name": "stdout",
     "output_type": "stream",
     "text": [
      "Original probabilities: [0.24571088 0.12439249 0.15856651 0.27879051 0.19253961]\n",
      "Inferred probabilities: [0.25219886 0.1326622  0.146      0.2819297  0.18720924]\n",
      "Original means: [[ 4.2660861   1.32871425]\n",
      " [ 0.57417881  0.34106302]\n",
      " [-4.11739197  0.14306291]\n",
      " [ 2.64862133  2.02077954]\n",
      " [ 4.8741986   3.30987918]]\n",
      "Inferred means: [[ 4.24082772  1.34024972]\n",
      " [ 0.61608026  0.37168734]\n",
      " [-4.24222171 -0.00576331]\n",
      " [ 2.62979772  1.98577434]\n",
      " [ 4.87812475  3.28978336]]\n",
      "Original covariance matrices: [[[ 0.5248484  -0.00251834]\n",
      "  [-0.00251834  0.01383748]]\n",
      "\n",
      " [[ 0.28834317  0.17316233]\n",
      "  [ 0.17316233  0.11725529]]\n",
      "\n",
      " [[ 1.16362634  0.90932215]\n",
      "  [ 0.90932215  0.86284785]]\n",
      "\n",
      " [[ 0.25549523  0.43743142]\n",
      "  [ 0.43743142  0.77071816]]\n",
      "\n",
      " [[ 0.70943532 -0.83971937]\n",
      "  [-0.83971937  1.22765545]]]\n",
      "Inferred covariance matrices: [[[ 0.56498317 -0.01077829]\n",
      "  [-0.01077829  0.0140026 ]]\n",
      "\n",
      " [[ 0.294743    0.17723598]\n",
      "  [ 0.17723598  0.11641825]]\n",
      "\n",
      " [[ 1.04818654  0.84439982]\n",
      "  [ 0.84439982  0.83117677]]\n",
      "\n",
      " [[ 0.2720394   0.46776083]\n",
      "  [ 0.46776083  0.82352268]]\n",
      "\n",
      " [[ 0.71663541 -0.88851922]\n",
      "  [-0.88851922  1.32011676]]]\n"
     ]
    }
   ],
   "source": [
    "for i in range(N_ITERATIONS):\n",
    "\n",
    "    p_gaussian = []\n",
    "    for k in range(N_GAUSSIANS):\n",
    "        p_gaussian.append(pdf(points, means[k], covs[k]))\n",
    "    # numpy.ndarray ((N_GAUSSIANS, N_SAMPLES) & numpy.float64)\n",
    "    p_gaussian = np.stack(p_gaussian)\n",
    "\n",
    "    # numpy.ndarray ((N_GAUSSIANS, N_SAMPLES) & numpy.float64)\n",
    "    p_gaussian_weighted = p_inferred[None, :].T * p_gaussian\n",
    "\n",
    "    # numpy.ndarray ((N_SAMPLES,) & numpy.float64)\n",
    "    p_gaussian_weighted_sum = p_gaussian_weighted.sum(axis=0)\n",
    "\n",
    "    # numpy.ndarray ((N_GAUSSIANS, N_SAMPLES) & numpy.float64)\n",
    "    p_z = (p_gaussian_weighted / p_gaussian_weighted_sum)\n",
    "\n",
    "    # Update the inferred probabilities.\n",
    "    p_inferred = p_z.mean(axis=1)\n",
    "\n",
    "    # Update the inferred means.\n",
    "    points_stacked = []\n",
    "    for _ in range(N_GAUSSIANS):\n",
    "        points_stacked.append(points)\n",
    "    p_z_x = (p_z[:, :, None] * points_stacked).sum(axis=1)\n",
    "    means_inferred = p_z_x / p_z.sum(axis=1)[:, None]\n",
    "\n",
    "    # Update the inferred covariance matrices.\n",
    "    a = np.empty((N_GAUSSIANS, N_SAMPLES, 2, 2))\n",
    "    for k in range(N_GAUSSIANS):\n",
    "        for j in range(N_SAMPLES):\n",
    "            # numpy.ndarray ((2, 2) & numpy.float64)\n",
    "            b = (points[j] - means_inferred[k])[None, :]\n",
    "            a[k, j] = b.T @ b\n",
    "    # numpy.ndarray ((N_GAUSSIANS, N_SAMPLES, 2, 2))\n",
    "    b = p_z[:, :, None, None] * a\n",
    "    covs_inferred = b.sum(axis=1) / p_z.sum(axis=1)[:, None, None]\n",
    "\n",
    "print(f'Original probabilities: {p}')\n",
    "print(f'Inferred probabilities: {p_inferred}')\n",
    "\n",
    "print(f'Original means: {means}')\n",
    "print(f'Inferred means: {means_inferred}')\n",
    "\n",
    "print(f'Original covariance matrices: {covs}')\n",
    "print(f'Inferred covariance matrices: {covs_inferred}')"
   ]
  },
  {
   "attachments": {},
   "cell_type": "markdown",
   "metadata": {},
   "source": [
    "## 3. Verification"
   ]
  },
  {
   "attachments": {},
   "cell_type": "markdown",
   "metadata": {},
   "source": [
    "This section verifies the correctness of the inferred parameters by sampling new data points."
   ]
  },
  {
   "cell_type": "code",
   "execution_count": 191,
   "metadata": {},
   "outputs": [],
   "source": [
    "points_inferred = []\n",
    "indices_inferred = []\n",
    "\n",
    "for i in range(N_SAMPLES):\n",
    "\n",
    "    # Sample the index of Gaussian distributions.\n",
    "    index = multinoulli(p_inferred)\n",
    "    indices_inferred.append(index)\n",
    "\n",
    "    # Sample a point using a specific Gaussian distribution.\n",
    "    point = np.random.default_rng().multivariate_normal(mean=means_inferred[index], cov=covs_inferred[index])\n",
    "    points_inferred.append(point)\n",
    "\n",
    "# numpy.ndarray ((N_SAMPLES, 2) & numpy.float64)\n",
    "points_inferred = np.stack(points_inferred)\n",
    "# numpy.ndarray ((N_SAMPLES,) & numpy.int32)\n",
    "indices_inferred = np.stack(indices_inferred)"
   ]
  },
  {
   "attachments": {},
   "cell_type": "markdown",
   "metadata": {},
   "source": [
    "Visualize data."
   ]
  },
  {
   "cell_type": "code",
   "execution_count": 196,
   "metadata": {},
   "outputs": [
    {
     "data": {
      "image/png": "[encoded data removed]",
      "text/plain": [
       "<Figure size 1000x500 with 2 Axes>"
      ]
     },
     "metadata": {},
     "output_type": "display_data"
    }
   ],
   "source": [
    "fig, (ax1, ax2) = plt.subplots(1, 2, figsize=(10, 5))\n",
    "\n",
    "for i in range(N_GAUSSIANS):\n",
    "\n",
    "    # Get all indices of a single Gaussian distribution.\n",
    "    indices_single = [] # Indices for a single Gaussian distribution.\n",
    "    for j in range(N_SAMPLES):\n",
    "        if indices[j] == i:\n",
    "            indices_single.append(j)\n",
    "\n",
    "    ax1.plot(points[indices_single,0], points[indices_single,1], '.')\n",
    "    ax1.set_title('Original samples.')\n",
    "\n",
    "for i in range(N_GAUSSIANS):\n",
    "\n",
    "    # Get all indices of a single Gaussian distribution.\n",
    "    indices_single = [] # Indices for a single Gaussian distribution.\n",
    "    for j in range(N_SAMPLES):\n",
    "        if indices_inferred[j] == i:\n",
    "            indices_single.append(j)\n",
    "\n",
    "    ax2.plot(points_inferred[indices_single,0], points_inferred[indices_single,1], '.')\n",
    "    ax2.set_title('Inferred samples.')\n",
    "\n",
    "plt.show()"
   ]
  }
 ],
 "metadata": {
  "kernelspec": {
   "display_name": "base",
   "language": "python",
   "name": "python3"
  },
  "language_info": {
   "codemirror_mode": {
    "name": "ipython",
    "version": 3
   },
   "file_extension": ".py",
   "mimetype": "text/x-python",
   "name": "python",
   "nbconvert_exporter": "python",
   "pygments_lexer": "ipython3",
   "version": "3.9.13"
  },
  "orig_nbformat": 4
 },
 "nbformat": 4,
 "nbformat_minor": 2
}
